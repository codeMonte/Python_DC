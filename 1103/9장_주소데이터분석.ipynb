{
 "cells": [
  {
   "cell_type": "code",
   "execution_count": null,
   "id": "ce24b392",
   "metadata": {},
   "outputs": [],
   "source": [
    "import pandas as pd\n",
    "CB = pd.read_csv('../Data/CoffeeBean.csv', encoding='utf-8', index_col=0, header=0, engine='python')\n",
    "#encoding = 'utf-8'은 mac os에서 작동시키기 위함\n",
    "CB.head()#작업 내용 확인용 출력"
   ]
  },
  {
   "cell_type": "code",
   "execution_count": null,
   "id": "b6a10e39",
   "metadata": {},
   "outputs": [],
   "source": [
    "addr = []\n",
    "\n",
    "for address in CB.address:\n",
    "    addr.append(str(address).split())\n",
    "\n",
    "#작업 내용 확인용 출력\n",
    "print('데이터 개수 : %d' %len(addr))\n",
    "addr"
   ]
  },
  {
   "cell_type": "code",
   "execution_count": null,
   "id": "7010b20b",
   "metadata": {},
   "outputs": [],
   "source": [
    "addr2 = []\n",
    "\n",
    "#addr에서 행정구역 표준 이름이 아닌 것 수정하기\n",
    "for i in range(len(addr)):\n",
    "    if addr[i][0] == \"서울\": addr[i][0] = \"서울특별시\"\n",
    "    elif addr[i][0] == \"서울시\": addr[i][0] = \"서울특별시\"\n",
    "    elif addr[i][0] == \"부산시\": addr[i][0] = \"부산광역시\"\n",
    "    elif addr[i][0] == \"인천\": addr[i][0] = \"인천광역시\"\n",
    "    elif addr[i][0] == \"광주\": addr[i][0] = \"광주광역시\"\n",
    "    elif addr[i][0] == \"대전시\": addr[i][0] = \"대전광역시\"\n",
    "    elif addr[i][0] == \"울산시\": addr[i][0] = \"울산광역시\"\n",
    "    elif addr[i][0] == \"세종시\": addr[i][0] = \"세종특별자치시\"\n",
    "    elif addr[i][0] == \"경기\": addr[i][0] = \"경기도\"\n",
    "    elif addr[i][0] == \"충북\": addr[i][0] = \"충청북도\"\n",
    "    elif addr[i][0] == \"충남\": addr[i][0] = \"충청남도\"\n",
    "    elif addr[i][0] == \"전북\": addr[i][0] = \"전라북도\"\n",
    "    elif addr[i][0] == \"전남\": addr[i][0] = \"전라남도\"\n",
    "    elif addr[i][0] == \"경북\": addr[i][0] = \"경상북도\"\n",
    "    elif addr[i][0] == \"경남\": addr[i][0] = \"경상남도\"\n",
    "    elif addr[i][0] == \"제주\": addr[i][0] = \"제주특별자치도\"\n",
    "    elif addr[i][0] == \"제주도\": addr[i][0] = \"제주특별자치도\"\n",
    "    elif addr[i][0] == \"제주시\": addr[i][0] = \"제주특별자치도\"\n",
    "        \n",
    "    addr2.append(' '.join(addr[i]))\n",
    "\n",
    "addr2 #작업 내용 확인용 출력"
   ]
  },
  {
   "cell_type": "code",
   "execution_count": null,
   "id": "26e83741",
   "metadata": {},
   "outputs": [],
   "source": [
    "addr2 = pd.DataFrame(addr2, columns=['address2'])\n",
    "\n",
    "addr2 #작업 내용 확인용 출력"
   ]
  },
  {
   "cell_type": "code",
   "execution_count": null,
   "id": "0ca3b604",
   "metadata": {},
   "outputs": [],
   "source": [
    "CB2 = pd.concat([CB, addr2], axis = 1)\n",
    "\n",
    "CB2.head() #작업 내용 확인용 출력"
   ]
  },
  {
   "cell_type": "code",
   "execution_count": null,
   "id": "effde544",
   "metadata": {},
   "outputs": [],
   "source": [
    "CB2.to_csv('../Data/CoffeeBean_2.csv', encoding = 'cp949', index = False)\n",
    "#mac os는 utf-8로 인코딩해야하지만 이러면 csv파일을 열어보면 꿿쁄뛠 이렇게 나온다 <-> cp949로 인코딩 시에는 잘 나옴"
   ]
  },
  {
   "cell_type": "code",
   "execution_count": null,
   "id": "605f2b72",
   "metadata": {},
   "outputs": [],
   "source": [
    "!pip install folium"
   ]
  },
  {
   "cell_type": "code",
   "execution_count": null,
   "id": "975baa44",
   "metadata": {},
   "outputs": [],
   "source": [
    "import folium"
   ]
  },
  {
   "cell_type": "code",
   "execution_count": null,
   "id": "89de9574",
   "metadata": {},
   "outputs": [],
   "source": [
    "map_osm = folium.Map(location = [37.560284, 126.975334], zoom_start = 16)"
   ]
  },
  {
   "cell_type": "code",
   "execution_count": null,
   "id": "b1c627b7",
   "metadata": {},
   "outputs": [],
   "source": [
    "map_osm.save('../Data/map.html')"
   ]
  },
  {
   "cell_type": "code",
   "execution_count": null,
   "id": "59504216",
   "metadata": {},
   "outputs": [],
   "source": [
    "CB_geoData = pd.read_csv('../Data/CB_geo.shp_2.csv', encoding = 'utf-8', engine = 'python')\n",
    "\n",
    "len(CB_geoData) #확인용 출력"
   ]
  },
  {
   "cell_type": "code",
   "execution_count": null,
   "id": "3604de2c",
   "metadata": {},
   "outputs": [],
   "source": [
    "map_CB = folium.Map(location = [37.560284, 126.975334], zoom_start = 15)"
   ]
  },
  {
   "cell_type": "code",
   "execution_count": null,
   "id": "0c1ee375",
   "metadata": {},
   "outputs": [],
   "source": [
    "for i, store in CB_geoData.iterrows():\n",
    "    folium.Marker(location = [store['위도'], store['경도']], popup = store['store'], icon = folium.icon(color = 'red', icon = 'star')).add_to(map_CB)"
   ]
  },
  {
   "cell_type": "code",
   "execution_count": null,
   "id": "9d448c82",
   "metadata": {},
   "outputs": [],
   "source": [
    "map_CB.save('../Data/map_CB.html')"
   ]
  },
  {
   "cell_type": "code",
   "execution_count": null,
   "id": "bdcd62d0",
   "metadata": {},
   "outputs": [],
   "source": [
    "import webbrowser\n",
    "\n",
    "webbrowser.open('/Users/taehwan/School/Python/1103(9장)/Data/map_CB.html')"
   ]
  },
  {
   "cell_type": "code",
   "execution_count": null,
   "id": "d512c1ba",
   "metadata": {},
   "outputs": [],
   "source": []
  }
 ],
 "metadata": {
  "kernelspec": {
   "display_name": "Python 3 (ipykernel)",
   "language": "python",
   "name": "python3"
  },
  "language_info": {
   "codemirror_mode": {
    "name": "ipython",
    "version": 3
   },
   "file_extension": ".py",
   "mimetype": "text/x-python",
   "name": "python",
   "nbconvert_exporter": "python",
   "pygments_lexer": "ipython3",
   "version": "3.9.13"
  }
 },
 "nbformat": 4,
 "nbformat_minor": 5
}
