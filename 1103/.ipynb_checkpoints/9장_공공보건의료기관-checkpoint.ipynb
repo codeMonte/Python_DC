{
 "cells": [
  {
   "cell_type": "code",
   "execution_count": null,
   "id": "591ea283",
   "metadata": {},
   "outputs": [],
   "source": [
    "import pandas as pd\n",
    "pd.set_option('mode.chained_assignment', None) #Warning 방지용\n",
    "import numpy as np\n",
    "\n",
    "data = pd.read_csv('../Data/공공보건의료기관현황.csv', index_col = 0, encoding = 'CP949', engine = 'python')\n",
    "\n",
    "data.head() #작업내용 확인용 출력"
   ]
  },
  {
   "cell_type": "code",
   "execution_count": null,
   "id": "c1f02e4f",
   "metadata": {},
   "outputs": [],
   "source": [
    "#주소에서 시도, 군구 정보 분리\n",
    "\n",
    "addr = pd.DataFrame(data[\"주소\"].apply(lambda v: v.split()[:2]).tolist(), columns = ('시도', '군구'))\n",
    "\n",
    "addr.head() #작업내용 확인용 출력"
   ]
  },
  {
   "cell_type": "code",
   "execution_count": null,
   "id": "aa1c4675",
   "metadata": {},
   "outputs": [],
   "source": [
    "addr['시도'].unique()"
   ]
  },
  {
   "cell_type": "code",
   "execution_count": null,
   "id": "49bbd277",
   "metadata": {},
   "outputs": [],
   "source": [
    "addr[addr['시도'] == '창원시']"
   ]
  },
  {
   "cell_type": "code",
   "execution_count": null,
   "id": "84346b2d",
   "metadata": {},
   "outputs": [],
   "source": [
    "## 표준 행정구역 이름으로 수정: 창원시 -> 경상남도 창원시\n",
    "addr.iloc[27] = ['경상남도', '창원시']\n",
    "addr.iloc[31] = ['경상남도', '창원시']"
   ]
  },
  {
   "cell_type": "code",
   "execution_count": null,
   "id": "8411365a",
   "metadata": {},
   "outputs": [],
   "source": [
    "addr.iloc[27]"
   ]
  },
  {
   "cell_type": "code",
   "execution_count": null,
   "id": "309f23da",
   "metadata": {},
   "outputs": [],
   "source": [
    "addr.iloc[31]"
   ]
  },
  {
   "cell_type": "code",
   "execution_count": null,
   "id": "49df4434",
   "metadata": {},
   "outputs": [],
   "source": [
    "addr[addr['시도'] == '경산시']"
   ]
  },
  {
   "cell_type": "code",
   "execution_count": null,
   "id": "bf3cda31",
   "metadata": {},
   "outputs": [],
   "source": [
    "addr.iloc[47] = ['경상북도', '경산시']\n",
    "\n",
    "addr.iloc[47]"
   ]
  },
  {
   "cell_type": "code",
   "execution_count": null,
   "id": "50d9389e",
   "metadata": {},
   "outputs": [],
   "source": [
    "addr[addr['시도'] == '천안시']"
   ]
  },
  {
   "cell_type": "code",
   "execution_count": null,
   "id": "975ecc5d",
   "metadata": {},
   "outputs": [],
   "source": [
    "## 표준 행정구역 이름으로 수정: 천안시 -> 충청남도 천안시\n",
    "addr.iloc[209] = ['충청남도', '천안시']\n",
    "addr.iloc[210] = ['충청남도', '천안시']"
   ]
  },
  {
   "cell_type": "code",
   "execution_count": null,
   "id": "b67a8a9a",
   "metadata": {},
   "outputs": [],
   "source": [
    "#작업 결과 확인하기\n",
    "addr['시도'].unique()"
   ]
  },
  {
   "cell_type": "code",
   "execution_count": null,
   "id": "f2b167da",
   "metadata": {},
   "outputs": [],
   "source": [
    "## 표준 행정구역 이름으로 수정: 경기 -> 경기도, 경남 -> 경상남도, ...\n",
    "addr_aliases = {'경기':'경기도', '경남':'경상남도', '경북':'경상북도', '충북':'충청북도', '서울시':'서울특별시', '대전시':'대전광역시', '충남':'충청남도', '전북':'전라북도'}"
   ]
  },
  {
   "cell_type": "code",
   "execution_count": null,
   "id": "cc6eea67",
   "metadata": {},
   "outputs": [],
   "source": [
    "addr['시도'] = addr['시도'].apply(lambda v: addr_aliases.get(v, v))"
   ]
  },
  {
   "cell_type": "code",
   "execution_count": null,
   "id": "6082d539",
   "metadata": {},
   "outputs": [],
   "source": [
    "#작업 결과 확인하기\n",
    "addr['시도'].unique()"
   ]
  },
  {
   "cell_type": "code",
   "execution_count": null,
   "id": "68d65597",
   "metadata": {},
   "outputs": [],
   "source": [
    "addr['군구'].unique()"
   ]
  },
  {
   "cell_type": "code",
   "execution_count": null,
   "id": "b178167d",
   "metadata": {},
   "outputs": [],
   "source": [
    "addr[addr['군구'] == '아란13길']"
   ]
  },
  {
   "cell_type": "code",
   "execution_count": null,
   "id": "33b0e16b",
   "metadata": {},
   "outputs": [],
   "source": [
    "addr.iloc[75] = ['제주특별자치도', '제주시']\n",
    "addr.iloc[75]"
   ]
  },
  {
   "cell_type": "code",
   "execution_count": null,
   "id": "5aabf0b6",
   "metadata": {},
   "outputs": [],
   "source": [
    "addr['시도군구'] = addr.apply(lambda r: r['시도'] + ' ' + r['군구'], axis = 1)\n",
    "\n",
    "addr.head() #작업 확인용 출력"
   ]
  },
  {
   "cell_type": "code",
   "execution_count": null,
   "id": "1bfe7db2",
   "metadata": {},
   "outputs": [],
   "source": [
    "addr['count'] = 0 #의료기관 수 합계를 저장할 컬럼 만들기\n",
    "\n",
    "addr.head() #작업 확인용 출력"
   ]
  },
  {
   "cell_type": "code",
   "execution_count": null,
   "id": "28ed1c4b",
   "metadata": {},
   "outputs": [],
   "source": [
    "addr_group = pd.DataFrame(addr.groupby(['시도', '군구', '시도군구'], as_index = False).count())\n",
    "\n",
    "addr_group.head() #작업 확인용 출력"
   ]
  },
  {
   "cell_type": "code",
   "execution_count": null,
   "id": "1861383e",
   "metadata": {},
   "outputs": [],
   "source": [
    "addr_group = addr_group.set_index(\"시도군구\")\n",
    "\n",
    "addr_group.head() #작업 확인용 출력"
   ]
  },
  {
   "cell_type": "code",
   "execution_count": null,
   "id": "9333ed05",
   "metadata": {},
   "outputs": [],
   "source": [
    "population = pd.read_excel('../Data/행정구역_시군구_별_성별_인구수_2.xlsx')\n",
    "\n",
    "population.head() #작업 확인용 출력"
   ]
  },
  {
   "cell_type": "code",
   "execution_count": null,
   "id": "b19056e3",
   "metadata": {},
   "outputs": [],
   "source": [
    "population = population.rename(columns = {'행정구역(시군구)별(1)': '시도', '행정구역(시군구)별(2)': '군구'})\n",
    "\n",
    "population.head() #작업 확인용 출력"
   ]
  },
  {
   "cell_type": "code",
   "execution_count": null,
   "id": "2c72a23a",
   "metadata": {},
   "outputs": [],
   "source": [
    "for element in range(0, len(population)):\n",
    "    population['군구'][element] = population[\"군구\"][element].strip()"
   ]
  },
  {
   "cell_type": "code",
   "execution_count": null,
   "id": "1d62d274",
   "metadata": {},
   "outputs": [],
   "source": [
    "population = population[population.군구 != '소계']\n",
    "\n",
    "population.head() #작업 확인용 출력"
   ]
  },
  {
   "cell_type": "code",
   "execution_count": null,
   "id": "09592587",
   "metadata": {},
   "outputs": [],
   "source": [
    "population = population.set_index(\"시도군구\")\n",
    "\n",
    "population.head() #작업 확인용 출력"
   ]
  },
  {
   "cell_type": "code",
   "execution_count": null,
   "id": "aff0858b",
   "metadata": {},
   "outputs": [],
   "source": [
    "addr_population_merge = pd.merge(addr_group.population, how = 'inner', left_index = True, right_index = True)\n",
    "\n",
    "addr_population_merge.head()"
   ]
  },
  {
   "cell_type": "code",
   "execution_count": null,
   "id": "a4f3e7f1",
   "metadata": {},
   "outputs": [],
   "source": [
    "local_MC_Population = addr_population_merge[['시도_x', '군구_x', 'count', '총인구수 (명)']]\n",
    "\n",
    "local_MC_Population.head() #작업 확인용 출력"
   ]
  },
  {
   "cell_type": "code",
   "execution_count": null,
   "id": "e733a1dd",
   "metadata": {},
   "outputs": [],
   "source": [
    "#컬럼 이름 변경\n",
    "local_MC_Population = local_MC_Population.rename(columns = {'시도_x': '시도', '군구_x': '군구', '총인구수 (명)': '인구수'})\n",
    "\n",
    "MC_count = local_MC_Population['count']\n",
    "local_MC_Population['MC_ratio'] = MC_count.div(local_MC_Population['인구수'], axis = 0) * 100000\n",
    "\n",
    "local_MC_Population.head() #작업 확인용 출력"
   ]
  },
  {
   "cell_type": "code",
   "execution_count": null,
   "id": "897571aa",
   "metadata": {},
   "outputs": [],
   "source": [
    "from matpotlib import pyplot as plt\n",
    "from matplotlib import rcParams, style\n",
    "style.use('ggplot')\n",
    "\n",
    "from matplotlib import font_manager, rc\n",
    "font_name = font_manager.FontProperties(fname = '/System/Library/Fonts/Supplemental/Arial.ttf').get_name()\n",
    "rc('font', family = font_name)"
   ]
  },
  {
   "cell_type": "code",
   "execution_count": null,
   "id": "23c46d24",
   "metadata": {},
   "outputs": [],
   "source": [
    "MC_ratio = local_MC_Population[['count']]\n",
    "MC_ratio = MC_ratio.sort_values('count', ascending = False)\n",
    "plt.rcParams[\"figure.figsize\"] = (25, 5)\n",
    "MC_ratio.plot(kind = 'bar', rot = 90)\n",
    "plt.show()"
   ]
  },
  {
   "cell_type": "code",
   "execution_count": null,
   "id": "663fa026",
   "metadata": {},
   "outputs": [],
   "source": [
    "MC_ratio = local_MC_Population[['MC_ratio']]\n",
    "MC_ratio = MC_ratio.sort_values('MC_ratio', ascending = False)\n",
    "plt.rcParams[\"figure.figsize\"] = (25, 5)\n",
    "MC_ratio.plot(kind = 'bar', rot = 90)\n",
    "plt.show()"
   ]
  },
  {
   "cell_type": "code",
   "execution_count": null,
   "id": "f08be021",
   "metadata": {},
   "outputs": [],
   "source": [
    "import os\n",
    "path = os.getcwd()"
   ]
  },
  {
   "cell_type": "code",
   "execution_count": null,
   "id": "d1b2948c",
   "metadata": {},
   "outputs": [],
   "source": [
    "data_draw_korea = pd.read_csv(path + '\\\\Data\\data_draw_korea.csv', index_col = 0, encoding = 'utff-8', engine = 'python')\n",
    "\n",
    "data_draw_korea.head() #작업 확인용 출력"
   ]
  },
  {
   "cell_type": "code",
   "execution_count": null,
   "id": "de883417",
   "metadata": {},
   "outputs": [],
   "source": [
    "data_draw_korea['시도군구'] = data_draw_korea.apply(lambda r: r['광역시도'] + ' ' + r['행정구역'], axis = 1)\n",
    "\n",
    "data_draw_korea.head() #작업 확인용 출력"
   ]
  },
  {
   "cell_type": "code",
   "execution_count": null,
   "id": "c42ea68b",
   "metadata": {},
   "outputs": [],
   "source": [
    "data_draw_korea = data_draw_korea.set_index(\"시도군구\")\n",
    "\n",
    "data_draw_korea.head() #작업 확인용 출력"
   ]
  },
  {
   "cell_type": "code",
   "execution_count": null,
   "id": "81590afd",
   "metadata": {},
   "outputs": [],
   "source": [
    "data_draw_korea_MC_Population_all = pd.merge(data_draw_korea, local_MC_Population, how = 'outer', left_index = True, right_index = True)\n",
    "\n",
    "data_draw_korea_MC_Popultaion_all.head()"
   ]
  },
  {
   "cell_type": "code",
   "execution_count": null,
   "id": "58663c09",
   "metadata": {},
   "outputs": [],
   "source": [
    "BORDER_LINES = [\n",
    "    [(3, 2), (5, 2), (5, 3), (9, 3), (9, 1)], # 인천\n",
    "    [(2, 5), (3, 5), (3, 4), (8, 4), (8, 7), (7, 7), (7, 9), (4, 9), (4, 7), (1, 7)], # 서울\n",
    "    [(1, 6), (1, 9), (3, 9), (3, 10), (8, 10), (8, 9),\n",
    "     (9, 9), (9, 8), (10, 8), (10, 5), (9, 5), (9, 3)], # 경기도\n",
    "    [(9, 12), (9, 10), (8, 10)], # 강원도\n",
    "    [(10, 5), (11, 5), (11, 4), (12, 4), (12, 5), (13, 5),\n",
    "     (13, 4), (14, 4), (14, 2)], # 충청남도\n",
    "    [(11, 5), (12, 5), (12, 6), (15, 6), (15, 7), (13, 7),\n",
    "     (13, 8), (11, 8), (11, 9), (10, 9), (10, 8)], # 충청북도\n",
    "    [(14, 4), (15, 4), (15, 6)], # 대전시\n",
    "    [(14, 7), (14, 9), (13, 9), (13, 11), (13, 13)], # 경상북도\n",
    "    [(14, 8), (16, 8), (16, 10), (15, 10),\n",
    "     (15, 11), (14, 11), (14, 12), (13, 12)], # 대구시\n",
    "    [(15, 11), (16, 11), (16, 13)], # 울산시\n",
    "    [(17, 1), (17, 3), (18, 3), (18, 6), (15, 6)], # 전라북도\n",
    "    [(19, 2), (19, 4), (21, 4), (21, 3), (22, 3), (22, 2), (19, 2)], # 광주시\n",
    "    [(18, 5), (20, 5), (20, 6)], # 전라남도\n",
    "    [(16, 9), (18, 9), (18, 8), (19, 8), (19, 9), (20, 9), (20, 10)], # 부산시\n",
    "]"
   ]
  },
  {
   "cell_type": "code",
   "execution_count": null,
   "id": "2e9f9ad1",
   "metadata": {},
   "outputs": [],
   "source": [
    "def draw_blockMap(blockedMap, targetData, title, color):\n",
    "    whitelabelmin = (max(blockedMap[targetData]) - min(blockedMap[targetData])) * 0.25 + min(blockedMap[targetData])\n",
    "\n",
    "    datalabel = targetData\n",
    "\n",
    "    vmin = min(blockedMap[targetData])\n",
    "    vmax = max(blockedMap[targetData])\n",
    "\n",
    "    mapdata = blockedMap.pivot(index='y', columns='x', values=targetData)\n",
    "    masked_mapdata = np.ma.masked_where(np.isnan(mapdata), mapdata)\n",
    "    \n",
    "    plt.figure(figsize=(8, 13))\n",
    "    plt.title(title)\n",
    "    plt.pcolor(masked_mapdata, vmin=vmin, vmax=vmax, cmap=color, edgecolor='#aaaaaa', linewidth=0.5)\n",
    "\n",
    "    # 지역 이름 표시\n",
    "    for idx, row in blockedMap.iterrows():\n",
    "        annocolor = 'white' if row[targetData] > whitelabelmin else 'black'\n",
    "    \n",
    "        # 광역시는 구 이름이 겹치는 경우가 많아서 시단위 이름도 같이 표시한다. (중구, 서구)\n",
    "        if row['광역시도'].endswith('시') and not row['광역시도'].startswith('세종'):\n",
    "            dispname = '{}\\n{}'.format(row['광역시도'][:2], row['행정구역'][:-1])\n",
    "            if len(row['행정구역']) <= 2:\n",
    "                dispname += row['행정구역'][-1]\n",
    "        else:\n",
    "            dispname = row['행정구역'][:-1]\n",
    "\n",
    "        # 서대문구, 서귀포시 같이 이름이 3자 이상인 경우에 작은 글자로 표시한다.\n",
    "        if len(dispname.splitlines()[-1]) >= 3:\n",
    "            fontsize, linespacing = 9.5, 1.5\n",
    "        else:\n",
    "            fontsize, linespacing = 11, 1.2\n",
    "\n",
    "        plt.annotate(dispname, (row['x']+0.5, row['y']+0.5), weight='bold',\n",
    "                     fontsize=fontsize, ha='center', va='center', color=annocolor,\n",
    "                     linespacing=linespacing)\n",
    "    \n",
    "    # 시도 경계 그린다.\n",
    "    for path in BORDER_LINES:\n",
    "        ys, xs = zip(*path)\n",
    "        plt.plot(xs, ys, c='black', lw=4)\n",
    "\n",
    "    plt.gca().invert_yaxis()\n",
    "    #plt.gca().set_aspect(1)\n",
    "    plt.axis('off')\n",
    "    \n",
    "    cb = plt.colorbar(shrink=.1, aspect=10)\n",
    "    cb.set_label(datalabel)\n",
    "\n",
    "    plt.tight_layout()\n",
    "    \n",
    "    plt.savefig('data\\\\Gis\\\\+ 'blockMap_' + targetData + '.png')\n",
    "                      \n",
    "    plt.show()"
   ]
  },
  {
   "cell_type": "code",
   "execution_count": null,
   "id": "9cdf7e7e",
   "metadata": {},
   "outputs": [],
   "source": [
    "draw_blockMap(data_draw_korea_MC_Population_all, 'count', '행정구역별 공공보건의료기관 수', 'Blues')"
   ]
  },
  {
   "cell_type": "code",
   "execution_count": null,
   "id": "536d61c8",
   "metadata": {},
   "outputs": [],
   "source": [
    "draw_blockMap(data_draw_korea_MC_Population_all, 'MC_ratio', '행정구역별 인구 수 대비 공공보건의료기관 비율', 'Reds')"
   ]
  }
 ],
 "metadata": {
  "kernelspec": {
   "display_name": "Python 3 (ipykernel)",
   "language": "python",
   "name": "python3"
  },
  "language_info": {
   "codemirror_mode": {
    "name": "ipython",
    "version": 3
   },
   "file_extension": ".py",
   "mimetype": "text/x-python",
   "name": "python",
   "nbconvert_exporter": "python",
   "pygments_lexer": "ipython3",
   "version": "3.9.13"
  }
 },
 "nbformat": 4,
 "nbformat_minor": 5
}
