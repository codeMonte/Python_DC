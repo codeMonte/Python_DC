{
 "cells": [
  {
   "cell_type": "code",
   "execution_count": null,
   "id": "6a35fa79",
   "metadata": {},
   "outputs": [],
   "source": [
    "import numpy as np\n",
    "import pandas as pd\n",
    "\n",
    "pd.__version__"
   ]
  },
  {
   "cell_type": "code",
   "execution_count": null,
   "id": "5141e785",
   "metadata": {},
   "outputs": [],
   "source": [
    "#피처 이름 파일 읽어오기\n",
    "feature_name_df = pd.read_csv('./11장_data/UCI_HAR_Dataset/features.txt', sep='\\s+', header=None, names=['index', 'feature_name'], engine='python')"
   ]
  },
  {
   "cell_type": "code",
   "execution_count": null,
   "id": "cacc3163",
   "metadata": {},
   "outputs": [],
   "source": [
    "feature_name_df.head()"
   ]
  },
  {
   "cell_type": "code",
   "execution_count": null,
   "id": "8e3f8499",
   "metadata": {},
   "outputs": [],
   "source": [
    "feature_name_df.shape"
   ]
  },
  {
   "cell_type": "code",
   "execution_count": null,
   "id": "9b2bc471",
   "metadata": {},
   "outputs": [],
   "source": [
    "#index 제거하고, feature_name만 리스트로 저장\n",
    "feature_name = feature_name_df.iloc[:, 1].values.tolist()"
   ]
  },
  {
   "cell_type": "code",
   "execution_count": null,
   "id": "1f5d4f44",
   "metadata": {},
   "outputs": [],
   "source": [
    "feature_name[:5]"
   ]
  },
  {
   "cell_type": "code",
   "execution_count": null,
   "id": "d455ac3b",
   "metadata": {},
   "outputs": [],
   "source": [
    "X_train = pd.read_csv('./11장_data/UCI_HAR_Dataset/train/X_train.txt', delim_whitespace=True, header=None, encoding='latin')\n",
    "X_train.columns = feature_name\n",
    "\n",
    "X_test = pd.read_csv('./11장_data/UCI_HAR_Dataset/test/X_test.txt', delim_whitespace=True, header=None, encoding='latin-1')\n",
    "X_test.columns = feature_name\n",
    "\n",
    "Y_train = pd.read_csv('./11장_data/UCI_HAR_Dataset/train/y_train.txt', sep='\\s+', header=None, names=['action'], engine='python')\n",
    "Y_test = pd.read_csv('./11장_data/UCI_HAR_Dataset/test/y_test.txt', sep='\\s+', header=None, names=['action'], engine='python')"
   ]
  },
  {
   "cell_type": "code",
   "execution_count": null,
   "id": "51d533cd",
   "metadata": {},
   "outputs": [],
   "source": [
    "X_train.shape, Y_train.shape, X_test.shape, Y_test.shape"
   ]
  },
  {
   "cell_type": "code",
   "execution_count": null,
   "id": "73dc0cc9",
   "metadata": {},
   "outputs": [],
   "source": [
    "X_train.info()"
   ]
  },
  {
   "cell_type": "code",
   "execution_count": null,
   "id": "f78dec28",
   "metadata": {},
   "outputs": [],
   "source": [
    "X_train.head()"
   ]
  },
  {
   "cell_type": "code",
   "execution_count": null,
   "id": "6cf93333",
   "metadata": {},
   "outputs": [],
   "source": [
    "print(Y_train['action'].value_counts())"
   ]
  },
  {
   "cell_type": "code",
   "execution_count": null,
   "id": "cdd6919c",
   "metadata": {},
   "outputs": [],
   "source": [
    "label_name_df = pd.read_csv('./11장_data/UCI_HAR_Dataset/activity_labels.txt', sep='\\s+', header=None, names=['index', 'label'], engine='python')"
   ]
  },
  {
   "cell_type": "code",
   "execution_count": null,
   "id": "0881e757",
   "metadata": {},
   "outputs": [],
   "source": [
    "#index 제거하고, feature_name만 리스트로 저장\n",
    "label_name = label_name_df.iloc[:, 1].values.tolist()"
   ]
  },
  {
   "cell_type": "code",
   "execution_count": null,
   "id": "2633316e",
   "metadata": {},
   "outputs": [],
   "source": [
    "label_name"
   ]
  },
  {
   "cell_type": "code",
   "execution_count": null,
   "id": "d3376f23",
   "metadata": {},
   "outputs": [],
   "source": [
    "from sklearn.tree import DecisionTreeClassifier"
   ]
  },
  {
   "cell_type": "code",
   "execution_count": null,
   "id": "cb6dfb67",
   "metadata": {},
   "outputs": [],
   "source": [
    "dt_HAR = DecisionTreeClassifier(random_state=156)"
   ]
  },
  {
   "cell_type": "code",
   "execution_count": null,
   "id": "1bb5cdbf",
   "metadata": {},
   "outputs": [],
   "source": [
    "dt_HAR.fit(X_train, Y_train)"
   ]
  },
  {
   "cell_type": "code",
   "execution_count": null,
   "id": "04f7cba2",
   "metadata": {},
   "outputs": [],
   "source": [
    "Y_predict = dt_HAR.predict(X_test)"
   ]
  },
  {
   "cell_type": "code",
   "execution_count": null,
   "id": "22853195",
   "metadata": {},
   "outputs": [],
   "source": [
    "from sklearn.metrics import accuracy_score"
   ]
  },
  {
   "cell_type": "code",
   "execution_count": null,
   "id": "a9ef5910",
   "metadata": {},
   "outputs": [],
   "source": [
    "accuracy=accuracy_score(Y_test, Y_predict)\n",
    "print('결정 트리 예측 정확도 : {0:.4f}'.format(accuracy))"
   ]
  },
  {
   "cell_type": "code",
   "execution_count": null,
   "id": "3d55f4f0",
   "metadata": {},
   "outputs": [],
   "source": [
    "print('결정 트리의 현재 하이퍼 파라미터: \\n', dt_HAR.get_params())"
   ]
  },
  {
   "cell_type": "code",
   "execution_count": null,
   "id": "38f66aed",
   "metadata": {},
   "outputs": [],
   "source": [
    "from sklearn.model_selection import GridSearchCV"
   ]
  },
  {
   "cell_type": "code",
   "execution_count": null,
   "id": "8373c74f",
   "metadata": {},
   "outputs": [],
   "source": [
    "params = {\n",
    "    'max_depth': [6, 8, 10, 12, 16, 20, 24]\n",
    "}\n",
    "grid_cv = GridSearchCV(dt_HAR, param_grid=params, scoring='accuracy', cv=5, return_train_score=True)\n",
    "grid_cv.fit(X_train, Y_train)"
   ]
  },
  {
   "cell_type": "code",
   "execution_count": null,
   "id": "11697868",
   "metadata": {},
   "outputs": [],
   "source": [
    "cv_results_df = pd.DataFrame(grid_cv.cv_results_)\n",
    "cv_results_df[['param_max_depth', 'mean_test_score', 'mean_train_score']]"
   ]
  },
  {
   "cell_type": "code",
   "execution_count": null,
   "id": "b2d7d312",
   "metadata": {},
   "outputs": [],
   "source": [
    "print('최고 평균 정확도: {0:.4f}, 최적 하이퍼 파라미터: {1}'.format(grid_cv.best_score_, grid_cv.best_params_))"
   ]
  },
  {
   "cell_type": "code",
   "execution_count": null,
   "id": "739da575",
   "metadata": {},
   "outputs": [],
   "source": [
    "params={\n",
    "    'max_depth': [8, 16, 20],\n",
    "    'min_samples_split': [8, 16, 24]\n",
    "}\n",
    "grid_cv = GridSearchCV(dt_HAR, param_grid=params, scoring='accuracy', cv=5, return_train_score=True)\n",
    "grid_cv.fit(X_train, Y_train)"
   ]
  },
  {
   "cell_type": "code",
   "execution_count": null,
   "id": "9510d834",
   "metadata": {},
   "outputs": [],
   "source": [
    "cv_results_df = pd.DataFrame(grid_cv.cv_results_)\n",
    "cv_results_df[['param_max_depth', 'param_min_samples_split', 'mean_test_score', 'mean_train_score']]"
   ]
  },
  {
   "cell_type": "code",
   "execution_count": null,
   "id": "cd4d12fe",
   "metadata": {},
   "outputs": [],
   "source": [
    "print('최고 평균 정확도: {0:.4f}, 최적 하이퍼 파라미터: {1}'.format(grid_cv.best_score_, grid_cv.best_params_))"
   ]
  },
  {
   "cell_type": "code",
   "execution_count": null,
   "id": "493c1951",
   "metadata": {},
   "outputs": [],
   "source": [
    "best_dt_HAR = grid_cv.best_estimator_\n",
    "best_Y_predict = best_dt_HAR.predict(X_test)\n",
    "best_accuracy = accuracy_score(Y_test, best_Y_predict)\n",
    "\n",
    "print('best 결정 트리 예측 정확도: {0:.4f}'.format(grid_cv.best_score_, grid_cv.best_params_))"
   ]
  },
  {
   "cell_type": "code",
   "execution_count": null,
   "id": "d1451672",
   "metadata": {},
   "outputs": [],
   "source": [
    "import seaborn as sns\n",
    "import matplotlib.pyplot as plt"
   ]
  },
  {
   "cell_type": "code",
   "execution_count": null,
   "id": "23914999",
   "metadata": {},
   "outputs": [],
   "source": [
    "feature_importance_values = best_dt_HAR.feature_importances_\n",
    "feature_importance_values_s = pd.Series(feature_importance_values, index=X_train.columns)"
   ]
  },
  {
   "cell_type": "code",
   "execution_count": null,
   "id": "7f1e0203",
   "metadata": {},
   "outputs": [],
   "source": [
    "feature_top10 = feature_importance_values_s.sort_values(ascending=False)[:10]"
   ]
  },
  {
   "cell_type": "code",
   "execution_count": null,
   "id": "7eb10884",
   "metadata": {},
   "outputs": [],
   "source": [
    "plt.figure(figsize = (10, 5))\n",
    "plt.title('Feature Top 10')\n",
    "sns.barplot(x = feature_top10, y = feature_top10.index)\n",
    "plt.show()"
   ]
  },
  {
   "cell_type": "code",
   "execution_count": null,
   "id": "5bc9df5e",
   "metadata": {},
   "outputs": [],
   "source": [
    "!pip install graphviz"
   ]
  },
  {
   "cell_type": "code",
   "execution_count": null,
   "id": "893f4c6a",
   "metadata": {},
   "outputs": [],
   "source": [
    "from sklearn.tree import export_graphviz\n",
    "\n",
    "export_graphviz(best_dt_HAR, out_file=\"tree.dot\", class_names=label_name, feature_names=feature_name, impurity=True, filled=True)"
   ]
  },
  {
   "cell_type": "code",
   "execution_count": null,
   "id": "35970e56",
   "metadata": {},
   "outputs": [],
   "source": [
    "import graphviz\n",
    "\n",
    "with open(\"tree.dot\") as f:\n",
    "    dot_graph = f.read()\n",
    "    \n",
    "graphviz.Source(dot_graph)"
   ]
  },
  {
   "cell_type": "code",
   "execution_count": null,
   "id": "409c9b28",
   "metadata": {},
   "outputs": [],
   "source": [
    "print(\"END\")"
   ]
  },
  {
   "cell_type": "code",
   "execution_count": null,
   "id": "6633e969",
   "metadata": {},
   "outputs": [],
   "source": []
  }
 ],
 "metadata": {
  "kernelspec": {
   "display_name": "Python 3 (ipykernel)",
   "language": "python",
   "name": "python3"
  },
  "language_info": {
   "codemirror_mode": {
    "name": "ipython",
    "version": 3
   },
   "file_extension": ".py",
   "mimetype": "text/x-python",
   "name": "python",
   "nbconvert_exporter": "python",
   "pygments_lexer": "ipython3",
   "version": "3.9.13"
  }
 },
 "nbformat": 4,
 "nbformat_minor": 5
}
